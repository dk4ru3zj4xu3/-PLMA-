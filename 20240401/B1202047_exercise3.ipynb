{
  "nbformat": 4,
  "nbformat_minor": 0,
  "metadata": {
    "colab": {
      "provenance": []
    },
    "kernelspec": {
      "name": "python3",
      "display_name": "Python 3"
    },
    "language_info": {
      "name": "python"
    }
  },
  "cells": [
    {
      "cell_type": "code",
      "execution_count": 46,
      "metadata": {
        "colab": {
          "base_uri": "https://localhost:8080/"
        },
        "id": "73lcz1y8ek8E",
        "outputId": "6e22a4a4-dfc1-4c1d-ece7-2d01415508f4"
      },
      "outputs": [
        {
          "output_type": "stream",
          "name": "stdout",
          "text": [
            "88.33333333333333\n",
            "{'姓名': '賴宏瑋', '性別': '男', '學號': 'M1129020'}\n",
            "95.0\n",
            "{'姓名': '許珈綺', '性別': '女', '學號': 'M1229001'}\n"
          ]
        }
      ],
      "source": [
        "import copy\n",
        "a1={'姓名':'賴宏瑋','性別':'男','作業分數':[95,100,90]}\n",
        "a2={'學號':'M1129020'}\n",
        "a3={**a1,**a2}\n",
        "a4=copy.deepcopy(a3)\n",
        "a3['作業分數'][1]=80\n",
        "a4['姓名']='許珈綺'\n",
        "a4['性別']='女'\n",
        "a4['學號']='M1229001'\n",
        "b3=a3.pop('作業分數')\n",
        "b3=sum(b3)/len(b3)\n",
        "print(b3)\n",
        "print(a3)\n",
        "b4=a4.pop('作業分數')\n",
        "b4=sum(b4)/len(b4)\n",
        "print(b4)\n",
        "print(a4)"
      ]
    },
    {
      "cell_type": "code",
      "source": [
        "T=[100,50,45,60,90,95,85,50]\n",
        "T.insert(0,88)\n",
        "T[2:5]=[70,50]\n",
        "T.remove(50)\n",
        "X=T.pop()\n",
        "Y=T.pop(0)\n",
        "\n",
        "print((X+Y)/2)"
      ],
      "metadata": {
        "colab": {
          "base_uri": "https://localhost:8080/"
        },
        "id": "ncINN9paidB8",
        "outputId": "b65a84a4-f670-4640-8635-2aa0f117b2ed"
      },
      "execution_count": 45,
      "outputs": [
        {
          "output_type": "stream",
          "name": "stdout",
          "text": [
            "69.0\n"
          ]
        }
      ]
    },
    {
      "cell_type": "code",
      "source": [
        "A=347//3\n",
        "B=347%3\n",
        "C=A**B\n",
        "\n",
        "print(C)"
      ],
      "metadata": {
        "colab": {
          "base_uri": "https://localhost:8080/"
        },
        "id": "6H82jnN7ir-7",
        "outputId": "4dc24f21-8b48-41d4-9e80-68cb659c7eb6"
      },
      "execution_count": 44,
      "outputs": [
        {
          "output_type": "stream",
          "name": "stdout",
          "text": [
            "13225\n"
          ]
        }
      ]
    }
  ]
}