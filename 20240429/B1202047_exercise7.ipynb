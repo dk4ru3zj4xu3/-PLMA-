{
  "nbformat": 4,
  "nbformat_minor": 0,
  "metadata": {
    "colab": {
      "provenance": []
    },
    "kernelspec": {
      "name": "python3",
      "display_name": "Python 3"
    },
    "language_info": {
      "name": "python"
    }
  },
  "cells": [
    {
      "cell_type": "code",
      "source": [
        "def height(x):\n",
        "  for a in range(x):\n",
        "    print((\" \"*(x-a))+(\"*\"*((2*a)+1)))\n",
        "  if a==(x-1):\n",
        "    for b in range(5):\n",
        "      print(\" \"*(x-1)+\"*\"*3)\n",
        "height(int(input(\"請輸入聖誕樹層數(至少為7)\")))"
      ],
      "metadata": {
        "colab": {
          "base_uri": "https://localhost:8080/"
        },
        "id": "16ujTvrTwH6j",
        "outputId": "7f4cad64-a66e-4d3c-d6ae-7ee91bf8b46b"
      },
      "execution_count": 9,
      "outputs": [
        {
          "output_type": "stream",
          "name": "stdout",
          "text": [
            "請輸入聖誕樹層數(至少為7)12\n",
            "            *\n",
            "           ***\n",
            "          *****\n",
            "         *******\n",
            "        *********\n",
            "       ***********\n",
            "      *************\n",
            "     ***************\n",
            "    *****************\n",
            "   *******************\n",
            "  *********************\n",
            " ***********************\n",
            "           ***\n",
            "           ***\n",
            "           ***\n",
            "           ***\n",
            "           ***\n"
          ]
        }
      ]
    },
    {
      "cell_type": "code",
      "source": [
        "def BMI(h,w):\n",
        "    result=w/((h/100)**2)\n",
        "    return result\n",
        "try:\n",
        "  w=float(input('輸入體重(kg):'))\n",
        "  h=float(input('輸入身高(cm):'))\n",
        "  print(BMI(h,w))\n",
        "  if BMI(h,w)<18.5:\n",
        "   print('體位:過輕')\n",
        "  elif 18.5<=BMI(h,w)<24:\n",
        "    print('體位:適中')\n",
        "  elif 24<=BMI(h,w)<27:\n",
        "    print('體位:過重')\n",
        "  else:\n",
        "    print('體位:肥胖')\n",
        "except:\n",
        "    print(\"輸入內容錯誤\")"
      ],
      "metadata": {
        "colab": {
          "base_uri": "https://localhost:8080/"
        },
        "id": "L1ZfgvuHyhql",
        "outputId": "23e0da78-ca34-4e85-ec7a-bf8b8079c72b"
      },
      "execution_count": 10,
      "outputs": [
        {
          "output_type": "stream",
          "name": "stdout",
          "text": [
            "輸入體重(kg):53\n",
            "輸入身高(cm):175\n",
            "17.306122448979593\n",
            "體位:過輕\n"
          ]
        }
      ]
    }
  ]
}