{
  "nbformat": 4,
  "nbformat_minor": 0,
  "metadata": {
    "colab": {
      "provenance": []
    },
    "kernelspec": {
      "name": "python3",
      "display_name": "Python 3"
    },
    "language_info": {
      "name": "python"
    }
  },
  "cells": [
    {
      "cell_type": "code",
      "execution_count": 5,
      "metadata": {
        "colab": {
          "base_uri": "https://localhost:8080/"
        },
        "id": "ZPTGfjYTjnmx",
        "outputId": "4c8a1070-871f-449a-93ec-e56699f5dbe8"
      },
      "outputs": [
        {
          "output_type": "stream",
          "name": "stdout",
          "text": [
            "輸入體重(kg):90\n",
            "輸入身高(cm):100\n",
            "BMI： 90.0\n",
            "體位：肥胖\n"
          ]
        }
      ],
      "source": [
        "w=input ('輸入體重(kg):')\n",
        "h=input ('輸入身高(cm):')\n",
        "w=float (w)\n",
        "h=float (h)\n",
        "h=h/100\n",
        "h*=h\n",
        "w/=(h)\n",
        "print('BMI：',w)\n",
        "if w<18.5:\n",
        "  print('體位：過輕')\n",
        "elif 18.5<=w<24:\n",
        "  print('體位：適中')\n",
        "elif 24<=w<27:\n",
        "  print('體位：過重')\n",
        "else:\n",
        "  print('體位：肥胖')"
      ]
    },
    {
      "cell_type": "code",
      "source": [
        "a=input('請輸入第一個數字')\n",
        "x=input('請輸入運算符號')\n",
        "b=input('請樹入第二個數字')\n",
        "a=float(a)\n",
        "b=float(b)\n",
        "if x=='+':\n",
        "  print(a+b)\n",
        "elif x=='-':\n",
        "  print(a-b)\n",
        "elif x=='*':\n",
        "  print(a*b)\n",
        "elif x=='/':\n",
        "  print(a/b)"
      ],
      "metadata": {
        "colab": {
          "base_uri": "https://localhost:8080/"
        },
        "id": "AuvZlIkdlMyn",
        "outputId": "8e03b6d3-e18e-4114-d37b-c81bfce577f4"
      },
      "execution_count": 12,
      "outputs": [
        {
          "output_type": "stream",
          "name": "stdout",
          "text": [
            "請輸入第一個數字10\n",
            "請輸入運算符號/\n",
            "請樹入第二個數字5\n",
            "2.0\n"
          ]
        }
      ]
    }
  ]
}