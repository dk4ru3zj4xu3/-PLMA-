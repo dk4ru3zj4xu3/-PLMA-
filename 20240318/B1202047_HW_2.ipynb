{
  "nbformat": 4,
  "nbformat_minor": 0,
  "metadata": {
    "colab": {
      "provenance": []
    },
    "kernelspec": {
      "name": "python3",
      "display_name": "Python 3"
    },
    "language_info": {
      "name": "python"
    }
  },
  "cells": [
    {
      "cell_type": "code",
      "execution_count": 15,
      "metadata": {
        "colab": {
          "base_uri": "https://localhost:8080/"
        },
        "id": "QK6n25ZqXbrG",
        "outputId": "f6217d56-5290-4f9d-c702-ba7b3520e566"
      },
      "outputs": [
        {
          "output_type": "stream",
          "name": "stdout",
          "text": [
            "A\n",
            "['K', 'H', 'U']\n"
          ]
        }
      ],
      "source": [
        "a='C,B,A'\n",
        "b=['F','G','H']\n",
        "c=a.split(',')+b\n",
        "c[0]='K'\n",
        "print(c.pop(2))\n",
        "del c[1:4]\n",
        "c.append('U')\n",
        "print(c)"
      ]
    },
    {
      "cell_type": "code",
      "source": [
        "a=input('請輸入一個八位數字')\n",
        "print(a[4])"
      ],
      "metadata": {
        "colab": {
          "base_uri": "https://localhost:8080/"
        },
        "id": "7Zsb_YrrfXjg",
        "outputId": "6ea15a2e-0c9c-40b7-9813-8ee17e5f6dd8"
      },
      "execution_count": 17,
      "outputs": [
        {
          "output_type": "stream",
          "name": "stdout",
          "text": [
            "請輸入一個八位數字12345678\n",
            "5\n"
          ]
        }
      ]
    },
    {
      "cell_type": "code",
      "source": [
        "a='My ID is B1202047'\n",
        "b=a.split(' ')\n",
        "print(len(b))\n",
        "c=b[3]\n",
        "print(len(c))"
      ],
      "metadata": {
        "colab": {
          "base_uri": "https://localhost:8080/"
        },
        "id": "cHolonr0kgTI",
        "outputId": "e4a4e8be-3158-4403-e01f-206fd376dc7a"
      },
      "execution_count": 23,
      "outputs": [
        {
          "output_type": "stream",
          "name": "stdout",
          "text": [
            "4\n",
            "8\n"
          ]
        }
      ]
    },
    {
      "cell_type": "code",
      "source": [
        "a='I\\'m a student'\n",
        "b=a.split(' ')\n",
        "print(b[0][2])"
      ],
      "metadata": {
        "colab": {
          "base_uri": "https://localhost:8080/"
        },
        "id": "8koUqLYale_O",
        "outputId": "3849644f-ee5f-455c-e375-9edca5360cb4"
      },
      "execution_count": 35,
      "outputs": [
        {
          "output_type": "stream",
          "name": "stdout",
          "text": [
            "m\n"
          ]
        }
      ]
    }
  ]
}