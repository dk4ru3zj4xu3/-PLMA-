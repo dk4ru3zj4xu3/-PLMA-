{
  "nbformat": 4,
  "nbformat_minor": 0,
  "metadata": {
    "colab": {
      "provenance": []
    },
    "kernelspec": {
      "name": "python3",
      "display_name": "Python 3"
    },
    "language_info": {
      "name": "python"
    }
  },
  "cells": [
    {
      "cell_type": "code",
      "execution_count": null,
      "metadata": {
        "colab": {
          "base_uri": "https://localhost:8080/"
        },
        "id": "c9PXe5J0dq1s",
        "outputId": "31c74b17-3e3b-4126-ad7a-aa6e8b855d1d"
      },
      "outputs": [
        {
          "output_type": "stream",
          "name": "stdout",
          "text": [
            "495\n"
          ]
        }
      ],
      "source": [
        "x=2\n",
        "y=1\n",
        "result=(2*x+y)*(100-y)\n",
        "print(result)\n"
      ]
    },
    {
      "cell_type": "code",
      "source": [
        "y=4\n",
        "result=100/(2*y+1)\n",
        "print(result)"
      ],
      "metadata": {
        "colab": {
          "base_uri": "https://localhost:8080/"
        },
        "id": "EG08wN-0fgE4",
        "outputId": "0aca33db-646c-4498-c8d2-c265c370606d"
      },
      "execution_count": null,
      "outputs": [
        {
          "output_type": "stream",
          "name": "stdout",
          "text": [
            "11.11111111111111\n"
          ]
        }
      ]
    }
  ]
}