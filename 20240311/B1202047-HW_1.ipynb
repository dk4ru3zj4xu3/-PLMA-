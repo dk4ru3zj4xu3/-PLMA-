{
  "nbformat": 4,
  "nbformat_minor": 0,
  "metadata": {
    "colab": {
      "provenance": []
    },
    "kernelspec": {
      "name": "python3",
      "display_name": "Python 3"
    },
    "language_info": {
      "name": "python"
    }
  },
  "cells": [
    {
      "cell_type": "code",
      "execution_count": null,
      "metadata": {
        "id": "UXFQb1y6oCKZ"
      },
      "outputs": [],
      "source": [
        "print(\"I'm a student\")"
      ]
    },
    {
      "cell_type": "code",
      "source": [
        "a=input ('輸入A點X座標')\n",
        "a=float (a)\n",
        "b=input ('輸入A點Y座標')\n",
        "b=float (b)\n",
        "c=input ('輸入B點X座標')\n",
        "c=float (c)\n",
        "d=input ('輸入B點Y座標')\n",
        "d=float (d)\n",
        "distance=(a-c)**2+(b-d)**2\n",
        "distance=float (distance)\n",
        "print ('AB間距離=',distance**0.5)"
      ],
      "metadata": {
        "id": "bH8SOyxop-Vy"
      },
      "execution_count": null,
      "outputs": []
    },
    {
      "cell_type": "code",
      "source": [
        "w=input ('輸入體重(kg):')\n",
        "h=input ('輸入身高(cm):')\n",
        "w=float (w)\n",
        "h=float (h)\n",
        "h=h/100\n",
        "h*=h\n",
        "w/=(h)\n",
        "print ('BMI為',w)"
      ],
      "metadata": {
        "id": "AiFCywTyJyGU"
      },
      "execution_count": null,
      "outputs": []
    }
  ]
}